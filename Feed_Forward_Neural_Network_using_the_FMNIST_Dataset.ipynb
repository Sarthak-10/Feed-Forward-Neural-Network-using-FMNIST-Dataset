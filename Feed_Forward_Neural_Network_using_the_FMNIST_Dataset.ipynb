{
  "nbformat": 4,
  "nbformat_minor": 0,
  "metadata": {
    "colab": {
      "name": "Feed_Forward Neural Network using the FMNIST Dataset.ipynb",
      "provenance": [],
      "collapsed_sections": []
    },
    "kernelspec": {
      "name": "python3",
      "display_name": "Python 3"
    },
    "language_info": {
      "name": "python"
    }
  },
  "cells": [
    {
      "cell_type": "code",
      "execution_count": null,
      "metadata": {
        "id": "BGasL862D-ha",
        "colab": {
          "base_uri": "https://localhost:8080/"
        },
        "outputId": "49691e84-bbbc-4f44-c04b-0ff543840e24"
      },
      "outputs": [
        {
          "output_type": "stream",
          "name": "stdout",
          "text": [
            "Drive already mounted at /content/gdrive; to attempt to forcibly remount, call drive.mount(\"/content/gdrive\", force_remount=True).\n"
          ]
        }
      ],
      "source": [
        "from google.colab import drive\n",
        "drive.mount(\"/content/gdrive\")"
      ]
    },
    {
      "cell_type": "markdown",
      "source": [
        "Extracting the FMNIST Dataset"
      ],
      "metadata": {
        "id": "mfLSL3ga4ZVR"
      }
    },
    {
      "cell_type": "code",
      "source": [
        "! cp /content/gdrive/MyDrive/SML_Assignment-4/fminst.zip .\n",
        "! unzip fminst.zip -d fminst/"
      ],
      "metadata": {
        "id": "UY9COB8HFtmm"
      },
      "execution_count": null,
      "outputs": []
    },
    {
      "cell_type": "code",
      "source": [
        "! cp /content/gdrive/MyDrive/SML_Assignment-4/mnist.zip .\n",
        "! unzip mnist.zip -d mnist/"
      ],
      "metadata": {
        "id": "Wcrxf4E8GEBx"
      },
      "execution_count": null,
      "outputs": []
    },
    {
      "cell_type": "code",
      "source": [
        "import numpy as np\n",
        "import matplotlib.pyplot as plt"
      ],
      "metadata": {
        "id": "RLx558PAGUdF"
      },
      "execution_count": null,
      "outputs": []
    },
    {
      "cell_type": "markdown",
      "source": [
        "Visualizing one image of the FMNIST Dataset"
      ],
      "metadata": {
        "id": "XygZo4I84eyU"
      }
    },
    {
      "cell_type": "code",
      "execution_count": null,
      "metadata": {
        "colab": {
          "base_uri": "https://localhost:8080/",
          "height": 319
        },
        "id": "2b6qE4BXnB76",
        "outputId": "e1c0bc60-32a3-4b4a-9027-14d3c6c7b987"
      },
      "outputs": [
        {
          "output_type": "stream",
          "name": "stdout",
          "text": [
            "(60000, 28, 28)\n",
            "(10000, 28, 28)\n",
            "Label : 5\n"
          ]
        },
        {
          "output_type": "display_data",
          "data": {
            "text/plain": [
              "<Figure size 432x288 with 1 Axes>"
            ],
            "image/png": "[encoded data removed]"
          },
          "metadata": {
            "needs_background": "light"
          }
        }
      ],
      "source": [
        "import gzip\n",
        "def images_file_read(file_name):\n",
        "    with gzip.open(file_name, 'r') as f:\n",
        "        # first 4 bytes is a magic number\n",
        "        magic_number = int.from_bytes(f.read(4), 'big')\n",
        "        # second 4 bytes is the number of images\n",
        "        image_count = int.from_bytes(f.read(4), 'big')\n",
        "        # third 4 bytes is the row count\n",
        "        row_count = int.from_bytes(f.read(4), 'big')\n",
        "        # fourth 4 bytes is the column count\n",
        "        column_count = int.from_bytes(f.read(4), 'big')\n",
        "        # rest is the image pixel data, each pixel is stored as an unsigned byte\n",
        "        # pixel values are 0 to 255\n",
        "        image_data = f.read()\n",
        "        images = np.frombuffer(image_data, dtype=np.uint8)\\\n",
        "            .reshape((image_count, row_count, column_count))\n",
        "        return images\n",
        "def labels_file_read(file_name):\n",
        "    with gzip.open(file_name, 'r') as f:\n",
        "        # first 4 bytes is a magic number\n",
        "        magic_number = int.from_bytes(f.read(4), 'big')\n",
        "        # second 4 bytes is the number of labels\n",
        "        label_count = int.from_bytes(f.read(4), 'big')\n",
        "        # rest is the label data, each label is stored as unsigned byte\n",
        "        # label values are 0 to 9\n",
        "        label_data = f.read()\n",
        "        labels = np.frombuffer(label_data, dtype=np.uint8)\n",
        "        return labels\n",
        "train_x2 = images_file_read(\"mnist/mnist/train-images-idx3-ubyte.gz\")\n",
        "print(train_x2.shape)\n",
        "train_y2 = labels_file_read(\"mnist/mnist/train-labels-idx1-ubyte.gz\")\n",
        "test_x2 = images_file_read(\"mnist/mnist/t10k-images-idx3-ubyte.gz\")\n",
        "print(test_x2.shape)\n",
        "test_y2 = labels_file_read(\"mnist/mnist/t10k-labels-idx1-ubyte.gz\")\n",
        "plt.imshow(train_x2[0])\n",
        "print(\"Label :\" ,  train_y2[0])"
      ]
    },
    {
      "cell_type": "code",
      "source": [
        "import pandas as pd\n",
        "df_train = pd.read_csv(\"fminst/fashion-mnist_train.csv\")\n",
        "df_test = pd.read_csv(\"fminst/fashion-mnist_test.csv\")\n",
        "label = {0:\"T-shirt/top\",\n",
        "1 :\"Trouser\",\n",
        "2 :\"Pullover\",\n",
        "3 :\"Dress\",\n",
        "4 :\"Coat\",\n",
        "5 :\"Sandal\",\n",
        "6 :\"Shirt\",\n",
        "7 :\"Sneaker\",\n",
        "8 :\"Bag\",\n",
        "9 :\"Ankle boot\"}"
      ],
      "metadata": {
        "id": "-w2DkEEHGxDA"
      },
      "execution_count": null,
      "outputs": []
    },
    {
      "cell_type": "code",
      "execution_count": null,
      "metadata": {
        "id": "MmqSoXBbnCEz"
      },
      "outputs": [],
      "source": [
        "train_x = np.array(df_train.iloc[:,1:]).reshape(df_train.shape[0],28,28)\n",
        "train_y = np.array(df_train.iloc[:,0])\n",
        "test_x = np.array(df_test.iloc[:,1:]).reshape(df_test.shape[0],28,28)\n",
        "test_y = np.array(df_test.iloc[:,0])"
      ]
    },
    {
      "cell_type": "code",
      "source": [
        "plt.imshow(train_x[1])\n",
        "print(\"Label :\" ,  label[train_y[1]])"
      ],
      "metadata": {
        "colab": {
          "base_uri": "https://localhost:8080/",
          "height": 283
        },
        "id": "yDF5fQD_HIgl",
        "outputId": "6bdf5319-6bd7-48cf-966f-32255a48d71e"
      },
      "execution_count": null,
      "outputs": [
        {
          "output_type": "stream",
          "name": "stdout",
          "text": [
            "Label : Ankle boot\n"
          ]
        },
        {
          "output_type": "display_data",
          "data": {
            "text/plain": [
              "<Figure size 432x288 with 1 Axes>"
            ],
            "image/png": "[encoded data removed]"
          },
          "metadata": {
            "needs_background": "light"
          }
        }
      ]
    },
    {
      "cell_type": "code",
      "source": [
        "print(train_x.shape)\n",
        "print(train_y.shape)"
      ],
      "metadata": {
        "colab": {
          "base_uri": "https://localhost:8080/"
        },
        "id": "PHWLk_HnJipc",
        "outputId": "4aed5faa-8f56-4e38-c39e-71e455c606e4"
      },
      "execution_count": null,
      "outputs": [
        {
          "output_type": "stream",
          "name": "stdout",
          "text": [
            "(60000, 28, 28)\n",
            "(60000,)\n"
          ]
        }
      ]
    },
    {
      "cell_type": "code",
      "source": [
        "val_x = train_x[0:10000,:,:]\n",
        "val_y = train_y[0:10000]"
      ],
      "metadata": {
        "id": "XVep50JLJnbZ"
      },
      "execution_count": null,
      "outputs": []
    },
    {
      "cell_type": "code",
      "source": [
        "train_x = train_x[10000:,:,:]\n",
        "train_y = train_y[10000:]"
      ],
      "metadata": {
        "id": "bFGVlJ7zXM_s"
      },
      "execution_count": null,
      "outputs": []
    },
    {
      "cell_type": "code",
      "source": [
        "print(train_x.shape)\n",
        "print(train_y.shape)"
      ],
      "metadata": {
        "colab": {
          "base_uri": "https://localhost:8080/"
        },
        "id": "yVhfaoAnX5tf",
        "outputId": "9066c74f-f1de-4b01-c080-f9b3bd7202a1"
      },
      "execution_count": null,
      "outputs": [
        {
          "output_type": "stream",
          "name": "stdout",
          "text": [
            "(50000, 28, 28)\n",
            "(50000,)\n"
          ]
        }
      ]
    },
    {
      "cell_type": "code",
      "source": [
        "print(val_x.shape)\n",
        "print(val_y.shape)"
      ],
      "metadata": {
        "colab": {
          "base_uri": "https://localhost:8080/"
        },
        "id": "iVfkJPIVW-YK",
        "outputId": "2379d2f9-540d-485f-b9b1-bfe7f19c3e78"
      },
      "execution_count": null,
      "outputs": [
        {
          "output_type": "stream",
          "name": "stdout",
          "text": [
            "(10000, 28, 28)\n",
            "(10000,)\n"
          ]
        }
      ]
    },
    {
      "cell_type": "code",
      "source": [
        "print(test_x.shape)\n",
        "print(test_y.shape)"
      ],
      "metadata": {
        "colab": {
          "base_uri": "https://localhost:8080/"
        },
        "id": "UI_8n9DZ028F",
        "outputId": "d251de1f-1b1c-4001-f494-fd9db63cf8eb"
      },
      "execution_count": null,
      "outputs": [
        {
          "output_type": "stream",
          "name": "stdout",
          "text": [
            "(10000, 28, 28)\n",
            "(10000,)\n"
          ]
        }
      ]
    },
    {
      "cell_type": "markdown",
      "source": [
        "Normalizing and Centralizing the training data"
      ],
      "metadata": {
        "id": "crLRn8aH4qPs"
      }
    },
    {
      "cell_type": "code",
      "source": [
        "train_x = (train_x / 255) - 0.5\n",
        "test_x = (test_x / 255) - 0.5\n",
        "val_x = (val_x / 255) - 0.5"
      ],
      "metadata": {
        "id": "yXxVRCkI09vw"
      },
      "execution_count": null,
      "outputs": []
    },
    {
      "cell_type": "code",
      "source": [
        "train_x = train_x.reshape((-1, 784))\n",
        "test_x = test_x.reshape((-1, 784))\n",
        "val_x = val_x.reshape((-1, 784))"
      ],
      "metadata": {
        "id": "ft0BT9Iw1YIg"
      },
      "execution_count": null,
      "outputs": []
    },
    {
      "cell_type": "code",
      "source": [
        "from keras.models import Sequential,load_model\n",
        "from keras.layers import Dense,Activation,Dropout,BatchNormalization\n",
        "from keras import initializers\n",
        "from tensorflow.keras import optimizers\n",
        "from tensorflow.keras.utils import to_categorical\n",
        "from keras.callbacks import ModelCheckpoint"
      ],
      "metadata": {
        "id": "kLMCEYst1mRm"
      },
      "execution_count": null,
      "outputs": []
    },
    {
      "cell_type": "markdown",
      "source": [
        "Preparing the model architechure as per the requirement"
      ],
      "metadata": {
        "id": "qUB6n9G34yoC"
      }
    },
    {
      "cell_type": "code",
      "source": [
        "model = Sequential() # create model\n",
        "model.add(Dense(64, input_dim=784, trainable=True,activation='relu', use_bias=True, \n",
        "                kernel_initializer=initializers.RandomNormal(mean=0., stddev=1.))) \n",
        "# model.add(Dropout(0.5))\n",
        "model.add(Dense(64, use_bias=False))\n",
        "model.add(BatchNormalization())\n",
        "model.add(Activation(\"relu\"))\n",
        "model.add(Dense(10, trainable=True, activation='softmax'))"
      ],
      "metadata": {
        "id": "2bkRkiR72YIl"
      },
      "execution_count": null,
      "outputs": []
    },
    {
      "cell_type": "markdown",
      "source": [
        "Adding SGD Optimizer to the model"
      ],
      "metadata": {
        "id": "u14b2Mwm5BSX"
      }
    },
    {
      "cell_type": "code",
      "source": [
        "sgd = optimizers.SGD(learning_rate=0.1, momentum=0.9)"
      ],
      "metadata": {
        "id": "e8E669uz29yo"
      },
      "execution_count": null,
      "outputs": []
    },
    {
      "cell_type": "code",
      "source": [
        "model.compile(\n",
        "  optimizer=sgd,\n",
        "  loss='categorical_crossentropy',\n",
        "  metrics=['accuracy'],\n",
        ")"
      ],
      "metadata": {
        "id": "bBtOf2WO3CbV"
      },
      "execution_count": null,
      "outputs": []
    },
    {
      "cell_type": "code",
      "source": [
        "model.summary()"
      ],
      "metadata": {
        "colab": {
          "base_uri": "https://localhost:8080/"
        },
        "id": "cGbZRcjJ4Klv",
        "outputId": "33a452de-0be6-4b3e-b712-c064b50e4f33"
      },
      "execution_count": null,
      "outputs": [
        {
          "output_type": "stream",
          "name": "stdout",
          "text": [
            "Model: \"sequential\"\n",
            "_________________________________________________________________\n",
            " Layer (type)                Output Shape              Param #   \n",
            "=================================================================\n",
            " dense (Dense)               (None, 64)                50240     \n",
            "                                                                 \n",
            " dense_1 (Dense)             (None, 64)                4096      \n",
            "                                                                 \n",
            " batch_normalization (BatchN  (None, 64)               256       \n",
            " ormalization)                                                   \n",
            "                                                                 \n",
            " activation (Activation)     (None, 64)                0         \n",
            "                                                                 \n",
            " dense_2 (Dense)             (None, 10)                650       \n",
            "                                                                 \n",
            "=================================================================\n",
            "Total params: 55,242\n",
            "Trainable params: 55,114\n",
            "Non-trainable params: 128\n",
            "_________________________________________________________________\n"
          ]
        }
      ]
    },
    {
      "cell_type": "markdown",
      "source": [
        "Training the model"
      ],
      "metadata": {
        "id": "XD0UgQXa5Fey"
      }
    },
    {
      "cell_type": "code",
      "source": [
        "mc = ModelCheckpoint('bestModel.h5', monitor='val_accuracy', mode='max', \n",
        "                     verbose=1, save_best_only=True)\n",
        "history=model.fit(\n",
        "  train_x,\n",
        "  to_categorical(train_y),\n",
        "  validation_data=(val_x, to_categorical(val_y)),  \n",
        "  epochs=30,\n",
        "  batch_size=512,\n",
        "  shuffle = True,\n",
        "  callbacks=[mc],\n",
        ")"
      ],
      "metadata": {
        "colab": {
          "base_uri": "https://localhost:8080/"
        },
        "id": "DKbOf6ef4pcQ",
        "outputId": "bdd6400e-c2c1-4038-ec63-7e704fba3340"
      },
      "execution_count": null,
      "outputs": [
        {
          "output_type": "stream",
          "name": "stdout",
          "text": [
            "Epoch 1/30\n",
            "95/98 [============================>.] - ETA: 0s - loss: 0.7792 - accuracy: 0.7200\n",
            "Epoch 1: val_accuracy improved from -inf to 0.70430, saving model to bestModel.h5\n",
            "98/98 [==============================] - 3s 19ms/step - loss: 0.7747 - accuracy: 0.7215 - val_loss: 0.8172 - val_accuracy: 0.7043\n",
            "Epoch 2/30\n",
            "97/98 [============================>.] - ETA: 0s - loss: 0.5460 - accuracy: 0.8006\n",
            "Epoch 2: val_accuracy improved from 0.70430 to 0.78250, saving model to bestModel.h5\n",
            "98/98 [==============================] - 2s 16ms/step - loss: 0.5458 - accuracy: 0.8007 - val_loss: 0.5909 - val_accuracy: 0.7825\n",
            "Epoch 3/30\n",
            "96/98 [============================>.] - ETA: 0s - loss: 0.5006 - accuracy: 0.8177\n",
            "Epoch 3: val_accuracy improved from 0.78250 to 0.80090, saving model to bestModel.h5\n",
            "98/98 [==============================] - 1s 13ms/step - loss: 0.5006 - accuracy: 0.8176 - val_loss: 0.5454 - val_accuracy: 0.8009\n",
            "Epoch 4/30\n",
            "98/98 [==============================] - ETA: 0s - loss: 0.4754 - accuracy: 0.8266\n",
            "Epoch 4: val_accuracy improved from 0.80090 to 0.82600, saving model to bestModel.h5\n",
            "98/98 [==============================] - 1s 13ms/step - loss: 0.4754 - accuracy: 0.8266 - val_loss: 0.4779 - val_accuracy: 0.8260\n",
            "Epoch 5/30\n",
            "97/98 [============================>.] - ETA: 0s - loss: 0.4542 - accuracy: 0.8342\n",
            "Epoch 5: val_accuracy improved from 0.82600 to 0.83120, saving model to bestModel.h5\n",
            "98/98 [==============================] - 1s 13ms/step - loss: 0.4536 - accuracy: 0.8344 - val_loss: 0.4640 - val_accuracy: 0.8312\n",
            "Epoch 6/30\n",
            "96/98 [============================>.] - ETA: 0s - loss: 0.4394 - accuracy: 0.8387\n",
            "Epoch 6: val_accuracy did not improve from 0.83120\n",
            "98/98 [==============================] - 1s 9ms/step - loss: 0.4394 - accuracy: 0.8389 - val_loss: 0.4647 - val_accuracy: 0.8293\n",
            "Epoch 7/30\n",
            "98/98 [==============================] - ETA: 0s - loss: 0.4279 - accuracy: 0.8431\n",
            "Epoch 7: val_accuracy improved from 0.83120 to 0.83830, saving model to bestModel.h5\n",
            "98/98 [==============================] - 1s 8ms/step - loss: 0.4279 - accuracy: 0.8431 - val_loss: 0.4441 - val_accuracy: 0.8383\n",
            "Epoch 8/30\n",
            "92/98 [===========================>..] - ETA: 0s - loss: 0.4167 - accuracy: 0.8468\n",
            "Epoch 8: val_accuracy did not improve from 0.83830\n",
            "98/98 [==============================] - 1s 7ms/step - loss: 0.4170 - accuracy: 0.8468 - val_loss: 0.4445 - val_accuracy: 0.8367\n",
            "Epoch 9/30\n",
            "94/98 [===========================>..] - ETA: 0s - loss: 0.4035 - accuracy: 0.8522\n",
            "Epoch 9: val_accuracy improved from 0.83830 to 0.84070, saving model to bestModel.h5\n",
            "98/98 [==============================] - 1s 7ms/step - loss: 0.4031 - accuracy: 0.8527 - val_loss: 0.4379 - val_accuracy: 0.8407\n",
            "Epoch 10/30\n",
            "98/98 [==============================] - ETA: 0s - loss: 0.3954 - accuracy: 0.8554\n",
            "Epoch 10: val_accuracy improved from 0.84070 to 0.85020, saving model to bestModel.h5\n",
            "98/98 [==============================] - 1s 8ms/step - loss: 0.3954 - accuracy: 0.8554 - val_loss: 0.4199 - val_accuracy: 0.8502\n",
            "Epoch 11/30\n",
            "97/98 [============================>.] - ETA: 0s - loss: 0.3866 - accuracy: 0.8602\n",
            "Epoch 11: val_accuracy did not improve from 0.85020\n",
            "98/98 [==============================] - 1s 7ms/step - loss: 0.3868 - accuracy: 0.8600 - val_loss: 0.4230 - val_accuracy: 0.8438\n",
            "Epoch 12/30\n",
            "91/98 [==========================>...] - ETA: 0s - loss: 0.3795 - accuracy: 0.8610\n",
            "Epoch 12: val_accuracy improved from 0.85020 to 0.85080, saving model to bestModel.h5\n",
            "98/98 [==============================] - 1s 8ms/step - loss: 0.3805 - accuracy: 0.8608 - val_loss: 0.4108 - val_accuracy: 0.8508\n",
            "Epoch 13/30\n",
            "93/98 [===========================>..] - ETA: 0s - loss: 0.3726 - accuracy: 0.8634\n",
            "Epoch 13: val_accuracy did not improve from 0.85080\n",
            "98/98 [==============================] - 1s 7ms/step - loss: 0.3721 - accuracy: 0.8638 - val_loss: 0.4218 - val_accuracy: 0.8486\n",
            "Epoch 14/30\n",
            "92/98 [===========================>..] - ETA: 0s - loss: 0.3660 - accuracy: 0.8669\n",
            "Epoch 14: val_accuracy improved from 0.85080 to 0.85160, saving model to bestModel.h5\n",
            "98/98 [==============================] - 1s 7ms/step - loss: 0.3666 - accuracy: 0.8670 - val_loss: 0.4066 - val_accuracy: 0.8516\n",
            "Epoch 15/30\n",
            "98/98 [==============================] - ETA: 0s - loss: 0.3615 - accuracy: 0.8685\n",
            "Epoch 15: val_accuracy improved from 0.85160 to 0.85460, saving model to bestModel.h5\n",
            "98/98 [==============================] - 1s 8ms/step - loss: 0.3615 - accuracy: 0.8685 - val_loss: 0.3991 - val_accuracy: 0.8546\n",
            "Epoch 16/30\n",
            "98/98 [==============================] - ETA: 0s - loss: 0.3551 - accuracy: 0.8710\n",
            "Epoch 16: val_accuracy did not improve from 0.85460\n",
            "98/98 [==============================] - 1s 7ms/step - loss: 0.3551 - accuracy: 0.8710 - val_loss: 0.4179 - val_accuracy: 0.8500\n",
            "Epoch 17/30\n",
            "90/98 [==========================>...] - ETA: 0s - loss: 0.3493 - accuracy: 0.8729\n",
            "Epoch 17: val_accuracy improved from 0.85460 to 0.85710, saving model to bestModel.h5\n",
            "98/98 [==============================] - 1s 8ms/step - loss: 0.3504 - accuracy: 0.8725 - val_loss: 0.3991 - val_accuracy: 0.8571\n",
            "Epoch 18/30\n",
            "97/98 [============================>.] - ETA: 0s - loss: 0.3449 - accuracy: 0.8737\n",
            "Epoch 18: val_accuracy did not improve from 0.85710\n",
            "98/98 [==============================] - 1s 8ms/step - loss: 0.3451 - accuracy: 0.8736 - val_loss: 0.3953 - val_accuracy: 0.8552\n",
            "Epoch 19/30\n",
            "95/98 [============================>.] - ETA: 0s - loss: 0.3391 - accuracy: 0.8762\n",
            "Epoch 19: val_accuracy did not improve from 0.85710\n",
            "98/98 [==============================] - 1s 7ms/step - loss: 0.3394 - accuracy: 0.8762 - val_loss: 0.3974 - val_accuracy: 0.8557\n",
            "Epoch 20/30\n",
            "96/98 [============================>.] - ETA: 0s - loss: 0.3376 - accuracy: 0.8763\n",
            "Epoch 20: val_accuracy did not improve from 0.85710\n",
            "98/98 [==============================] - 1s 7ms/step - loss: 0.3375 - accuracy: 0.8763 - val_loss: 0.4035 - val_accuracy: 0.8540\n",
            "Epoch 21/30\n",
            "93/98 [===========================>..] - ETA: 0s - loss: 0.3321 - accuracy: 0.8791\n",
            "Epoch 21: val_accuracy improved from 0.85710 to 0.86170, saving model to bestModel.h5\n",
            "98/98 [==============================] - 1s 7ms/step - loss: 0.3328 - accuracy: 0.8791 - val_loss: 0.3888 - val_accuracy: 0.8617\n",
            "Epoch 22/30\n",
            "97/98 [============================>.] - ETA: 0s - loss: 0.3289 - accuracy: 0.8790\n",
            "Epoch 22: val_accuracy did not improve from 0.86170\n",
            "98/98 [==============================] - 1s 8ms/step - loss: 0.3291 - accuracy: 0.8789 - val_loss: 0.3893 - val_accuracy: 0.8602\n",
            "Epoch 23/30\n",
            "95/98 [============================>.] - ETA: 0s - loss: 0.3253 - accuracy: 0.8815\n",
            "Epoch 23: val_accuracy did not improve from 0.86170\n",
            "98/98 [==============================] - 1s 8ms/step - loss: 0.3256 - accuracy: 0.8811 - val_loss: 0.3887 - val_accuracy: 0.8607\n",
            "Epoch 24/30\n",
            "92/98 [===========================>..] - ETA: 0s - loss: 0.3206 - accuracy: 0.8844\n",
            "Epoch 24: val_accuracy improved from 0.86170 to 0.86190, saving model to bestModel.h5\n",
            "98/98 [==============================] - 1s 7ms/step - loss: 0.3214 - accuracy: 0.8837 - val_loss: 0.3819 - val_accuracy: 0.8619\n",
            "Epoch 25/30\n",
            "93/98 [===========================>..] - ETA: 0s - loss: 0.3183 - accuracy: 0.8839\n",
            "Epoch 25: val_accuracy did not improve from 0.86190\n",
            "98/98 [==============================] - 1s 7ms/step - loss: 0.3179 - accuracy: 0.8839 - val_loss: 0.4034 - val_accuracy: 0.8573\n",
            "Epoch 26/30\n",
            "97/98 [============================>.] - ETA: 0s - loss: 0.3163 - accuracy: 0.8848\n",
            "Epoch 26: val_accuracy improved from 0.86190 to 0.86500, saving model to bestModel.h5\n",
            "98/98 [==============================] - 1s 7ms/step - loss: 0.3160 - accuracy: 0.8850 - val_loss: 0.3792 - val_accuracy: 0.8650\n",
            "Epoch 27/30\n",
            "95/98 [============================>.] - ETA: 0s - loss: 0.3120 - accuracy: 0.8865\n",
            "Epoch 27: val_accuracy did not improve from 0.86500\n",
            "98/98 [==============================] - 1s 7ms/step - loss: 0.3126 - accuracy: 0.8865 - val_loss: 0.4103 - val_accuracy: 0.8552\n",
            "Epoch 28/30\n",
            "93/98 [===========================>..] - ETA: 0s - loss: 0.3069 - accuracy: 0.8884\n",
            "Epoch 28: val_accuracy did not improve from 0.86500\n",
            "98/98 [==============================] - 1s 7ms/step - loss: 0.3081 - accuracy: 0.8879 - val_loss: 0.3867 - val_accuracy: 0.8627\n",
            "Epoch 29/30\n",
            "95/98 [============================>.] - ETA: 0s - loss: 0.3029 - accuracy: 0.8887\n",
            "Epoch 29: val_accuracy did not improve from 0.86500\n",
            "98/98 [==============================] - 1s 7ms/step - loss: 0.3041 - accuracy: 0.8884 - val_loss: 0.4034 - val_accuracy: 0.8568\n",
            "Epoch 30/30\n",
            "95/98 [============================>.] - ETA: 0s - loss: 0.3038 - accuracy: 0.8886\n",
            "Epoch 30: val_accuracy did not improve from 0.86500\n",
            "98/98 [==============================] - 1s 7ms/step - loss: 0.3035 - accuracy: 0.8887 - val_loss: 0.3917 - val_accuracy: 0.8597\n"
          ]
        }
      ]
    },
    {
      "cell_type": "markdown",
      "source": [
        "Plotting Epoch-wise Training and Validation Loss"
      ],
      "metadata": {
        "id": "n7hoPMn15NKT"
      }
    },
    {
      "cell_type": "code",
      "source": [
        "loss_train = history.history[\"loss\"]\n",
        "loss_val = history.history['val_loss']\n",
        "epochs = range(1,31)\n",
        "plt.plot(epochs, loss_train, 'g', label='Training loss')\n",
        "plt.plot(epochs, loss_val, 'b', label='validation loss')\n",
        "plt.title('Training and Validation loss')\n",
        "plt.xlabel('Epochs')\n",
        "plt.ylabel('Loss')\n",
        "plt.legend()\n",
        "plt.show()"
      ],
      "metadata": {
        "colab": {
          "base_uri": "https://localhost:8080/",
          "height": 295
        },
        "id": "a5OHwVXvFkLk",
        "outputId": "8638023c-d5db-4e06-97f8-6d29e2658ead"
      },
      "execution_count": null,
      "outputs": [
        {
          "output_type": "display_data",
          "data": {
            "text/plain": [
              "<Figure size 432x288 with 1 Axes>"
            ],
            "image/png": "[encoded data removed]"
          },
          "metadata": {
            "needs_background": "light"
          }
        }
      ]
    },
    {
      "cell_type": "code",
      "source": [
        "saved_model = load_model(\"bestModel.h5\")\n",
        "scores = saved_model.evaluate(\n",
        "  test_x,\n",
        "  to_categorical(test_y)\n",
        ")\n",
        "\n",
        "print('Test accuracy:', scores[1])"
      ],
      "metadata": {
        "colab": {
          "base_uri": "https://localhost:8080/"
        },
        "id": "4SyvQraFFe4b",
        "outputId": "01003828-8bb9-4344-f6f7-37b0b94a540d"
      },
      "execution_count": null,
      "outputs": [
        {
          "output_type": "stream",
          "name": "stdout",
          "text": [
            "313/313 [==============================] - 1s 2ms/step - loss: 0.3685 - accuracy: 0.8676\n",
            "Test accuracy: 0.8676000237464905\n"
          ]
        }
      ]
    }
  ]
}